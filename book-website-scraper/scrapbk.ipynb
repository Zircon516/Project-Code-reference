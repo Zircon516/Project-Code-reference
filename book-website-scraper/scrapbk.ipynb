{
 "cells": [
  {
   "cell_type": "code",
   "execution_count": 110,
   "metadata": {},
   "outputs": [],
   "source": [
    "# 预计爬取前20页书名，评分，价格，目前状态\n",
    "import requests\n",
    "from bs4 import BeautifulSoup\n",
    "import time\n",
    "import pandas as pd\n",
    "import numpy as  np"
   ]
  },
  {
   "cell_type": "code",
   "execution_count": 108,
   "metadata": {},
   "outputs": [],
   "source": [
    "# names = locals()\n",
    "# for i in range(1,20):\n",
    "#    names['respone' + str(i) ] = requests.get( \"https://books.toscrape.com/catalogue/page-{}.html\".format(i))"
   ]
  },
  {
   "cell_type": "code",
   "execution_count": 68,
   "metadata": {},
   "outputs": [],
   "source": [
    "def bsf_bkname(respone):\n",
    "    soup = BeautifulSoup(respone.content, 'html.parser')\n",
    "    layer1 = soup.find_all(class_='product_pod')\n",
    "    book_name_list_html = []\n",
    "    for i in layer1:\n",
    "        book_name_list_html.append(i.h3)\n",
    "    book_name_list =[]\n",
    "    for j in book_name_list_html:\n",
    "        book_name_list.append(j.a.get('title'))\n",
    "    return book_name_list"
   ]
  },
  {
   "cell_type": "code",
   "execution_count": 87,
   "metadata": {},
   "outputs": [],
   "source": [
    "def bsf_bkprice(respone):\n",
    "    soup = BeautifulSoup(respone.content, 'html.parser')\n",
    "    layer1 = soup.find_all(class_='price_color')\n",
    "    book_price = []\n",
    "    for i in layer1:\n",
    "        book_price.append(i.get_text())\n",
    "    return book_price"
   ]
  },
  {
   "cell_type": "code",
   "execution_count": 101,
   "metadata": {},
   "outputs": [],
   "source": [
    "def bsf_bkstatus(respone):\n",
    "    soup = BeautifulSoup(respone.content, 'html.parser')\n",
    "    layer1 = soup.find_all(class_='instock availability')\n",
    "    book_status = []\n",
    "    for i in layer1:\n",
    "        book_status.append(i.get_text(strip='True'))\n",
    "    return book_status"
   ]
  },
  {
   "cell_type": "code",
   "execution_count": 102,
   "metadata": {},
   "outputs": [],
   "source": [
    "def crawlprocess():\n",
    "    booklist ={}\n",
    "    bookpricelist = {}\n",
    "    bookstatus = {}\n",
    "    for page in range(1,23):\n",
    "        print('crawling page {} now'.format(page))\n",
    "        url = \"https://books.toscrape.com/catalogue/page-{}.html\".format(page)\n",
    "        headers={\n",
    "            \"User-Agent\":\"USER_AGENT': 'Mozilla/5.0 (Windows NT 10.0; Win64; x64) AppleWebKit/537.36 (KHTML, like Gecko) Chrome/99.0.4844.84 Safari/537.36\"\n",
    "        }\n",
    "        data = {\n",
    "            \"City\":None,\n",
    "            \"pageIndex\":page,\n",
    "        }\n",
    "        respone = requests.get(url = url, headers = headers, data = data)\n",
    "        booklist[str(page)] = bsf_bkname(respone)\n",
    "        bookpricelist[str(page)] = bsf_bkprice(respone)  \n",
    "        bookstatus[str(page)] = bsf_bkstatus(respone)                        \n",
    "        time.sleep(3)\n",
    "    return booklist,bookpricelist,bookstatus"
   ]
  },
  {
   "cell_type": "code",
   "execution_count": 104,
   "metadata": {},
   "outputs": [
    {
     "name": "stdout",
     "output_type": "stream",
     "text": [
      "crawling page 1 now\n",
      "crawling page 2 now\n",
      "crawling page 3 now\n",
      "crawling page 4 now\n",
      "crawling page 5 now\n",
      "crawling page 6 now\n",
      "crawling page 7 now\n",
      "crawling page 8 now\n",
      "crawling page 9 now\n",
      "crawling page 10 now\n",
      "crawling page 11 now\n",
      "crawling page 12 now\n",
      "crawling page 13 now\n",
      "crawling page 14 now\n",
      "crawling page 15 now\n",
      "crawling page 16 now\n",
      "crawling page 17 now\n",
      "crawling page 18 now\n",
      "crawling page 19 now\n",
      "crawling page 20 now\n",
      "crawling page 21 now\n",
      "crawling page 22 now\n"
     ]
    }
   ],
   "source": [
    "bk_name_lst,bk_price_list,bk_status_list= crawlprocess()"
   ]
  },
  {
   "cell_type": "code",
   "execution_count": 123,
   "metadata": {},
   "outputs": [],
   "source": [
    "#创建一个dataframe拼接\n",
    "def get_data(dic):\n",
    "    data = pd.DataFrame(dic)\n",
    "    df_new = pd.DataFrame(data.to_numpy().reshape(-1, 1, order='F'), columns=['1'])\n",
    "    return df_new"
   ]
  },
  {
   "cell_type": "code",
   "execution_count": 124,
   "metadata": {},
   "outputs": [],
   "source": [
    "# 创建多列拼接\n",
    "def concate_data(*diclist):\n",
    "    data1 = diclist[0]\n",
    "    for i in diclist[1:]:\n",
    "        data1 = pd.concat([data1, i],axis=1,ignore_index=True)\n",
    "    return data1\n"
   ]
  },
  {
   "cell_type": "code",
   "execution_count": 125,
   "metadata": {},
   "outputs": [],
   "source": [
    "data = concate_data(get_data(bk_name_lst),get_data(bk_price_list),get_data(bk_status_list))"
   ]
  },
  {
   "cell_type": "code",
   "execution_count": 136,
   "metadata": {},
   "outputs": [],
   "source": [
    "data = data.rename(columns={0:'name',1:'price',2:'status'})"
   ]
  },
  {
   "cell_type": "code",
   "execution_count": 137,
   "metadata": {},
   "outputs": [
    {
     "data": {
      "text/html": [
       "<div>\n",
       "<style scoped>\n",
       "    .dataframe tbody tr th:only-of-type {\n",
       "        vertical-align: middle;\n",
       "    }\n",
       "\n",
       "    .dataframe tbody tr th {\n",
       "        vertical-align: top;\n",
       "    }\n",
       "\n",
       "    .dataframe thead th {\n",
       "        text-align: right;\n",
       "    }\n",
       "</style>\n",
       "<table border=\"1\" class=\"dataframe\">\n",
       "  <thead>\n",
       "    <tr style=\"text-align: right;\">\n",
       "      <th></th>\n",
       "      <th>name</th>\n",
       "      <th>price</th>\n",
       "      <th>status</th>\n",
       "    </tr>\n",
       "  </thead>\n",
       "  <tbody>\n",
       "    <tr>\n",
       "      <th>0</th>\n",
       "      <td>A Light in the Attic</td>\n",
       "      <td>£51.77</td>\n",
       "      <td>In stock</td>\n",
       "    </tr>\n",
       "    <tr>\n",
       "      <th>1</th>\n",
       "      <td>Tipping the Velvet</td>\n",
       "      <td>£53.74</td>\n",
       "      <td>In stock</td>\n",
       "    </tr>\n",
       "    <tr>\n",
       "      <th>2</th>\n",
       "      <td>Soumission</td>\n",
       "      <td>£50.10</td>\n",
       "      <td>In stock</td>\n",
       "    </tr>\n",
       "    <tr>\n",
       "      <th>3</th>\n",
       "      <td>Sharp Objects</td>\n",
       "      <td>£47.82</td>\n",
       "      <td>In stock</td>\n",
       "    </tr>\n",
       "    <tr>\n",
       "      <th>4</th>\n",
       "      <td>Sapiens: A Brief History of Humankind</td>\n",
       "      <td>£54.23</td>\n",
       "      <td>In stock</td>\n",
       "    </tr>\n",
       "    <tr>\n",
       "      <th>...</th>\n",
       "      <td>...</td>\n",
       "      <td>...</td>\n",
       "      <td>...</td>\n",
       "    </tr>\n",
       "    <tr>\n",
       "      <th>435</th>\n",
       "      <td>Modern Day Fables</td>\n",
       "      <td>£47.44</td>\n",
       "      <td>In stock</td>\n",
       "    </tr>\n",
       "    <tr>\n",
       "      <th>436</th>\n",
       "      <td>If I Gave You God's Phone Number....: Searchin...</td>\n",
       "      <td>£20.91</td>\n",
       "      <td>In stock</td>\n",
       "    </tr>\n",
       "    <tr>\n",
       "      <th>437</th>\n",
       "      <td>Fruits Basket, Vol. 9 (Fruits Basket #9)</td>\n",
       "      <td>£33.95</td>\n",
       "      <td>In stock</td>\n",
       "    </tr>\n",
       "    <tr>\n",
       "      <th>438</th>\n",
       "      <td>Dress Your Family in Corduroy and Denim</td>\n",
       "      <td>£43.68</td>\n",
       "      <td>In stock</td>\n",
       "    </tr>\n",
       "    <tr>\n",
       "      <th>439</th>\n",
       "      <td>Don't Forget Steven</td>\n",
       "      <td>£33.23</td>\n",
       "      <td>In stock</td>\n",
       "    </tr>\n",
       "  </tbody>\n",
       "</table>\n",
       "<p>440 rows × 3 columns</p>\n",
       "</div>"
      ],
      "text/plain": [
       "                                                  name   price    status\n",
       "0                                 A Light in the Attic  £51.77  In stock\n",
       "1                                   Tipping the Velvet  £53.74  In stock\n",
       "2                                           Soumission  £50.10  In stock\n",
       "3                                        Sharp Objects  £47.82  In stock\n",
       "4                Sapiens: A Brief History of Humankind  £54.23  In stock\n",
       "..                                                 ...     ...       ...\n",
       "435                                  Modern Day Fables  £47.44  In stock\n",
       "436  If I Gave You God's Phone Number....: Searchin...  £20.91  In stock\n",
       "437           Fruits Basket, Vol. 9 (Fruits Basket #9)  £33.95  In stock\n",
       "438            Dress Your Family in Corduroy and Denim  £43.68  In stock\n",
       "439                                Don't Forget Steven  £33.23  In stock\n",
       "\n",
       "[440 rows x 3 columns]"
      ]
     },
     "execution_count": 137,
     "metadata": {},
     "output_type": "execute_result"
    }
   ],
   "source": [
    "data"
   ]
  },
  {
   "cell_type": "code",
   "execution_count": 138,
   "metadata": {},
   "outputs": [],
   "source": [
    "data['price'] = data['price'].apply(lambda x: x[1:])"
   ]
  },
  {
   "cell_type": "code",
   "execution_count": 139,
   "metadata": {},
   "outputs": [],
   "source": [
    "data.to_csv(r'C:\\Users\\22785\\Desktop\\cuhk course\\term3\\web\\scpdata.csv')"
   ]
  }
 ],
 "metadata": {
  "kernelspec": {
   "display_name": "Python 3",
   "language": "python",
   "name": "python3"
  },
  "language_info": {
   "codemirror_mode": {
    "name": "ipython",
    "version": 3
   },
   "file_extension": ".py",
   "mimetype": "text/x-python",
   "name": "python",
   "nbconvert_exporter": "python",
   "pygments_lexer": "ipython3",
   "version": "3.10.7"
  },
  "orig_nbformat": 4,
  "vscode": {
   "interpreter": {
    "hash": "5dcca87c6fb03fb4634efef5f1b4e1686105b41f00454df568a7660903364bc5"
   }
  }
 },
 "nbformat": 4,
 "nbformat_minor": 2
}
