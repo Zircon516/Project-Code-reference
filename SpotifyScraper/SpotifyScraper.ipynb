{
 "cells": [
  {
   "cell_type": "code",
   "execution_count": null,
   "metadata": {},
   "outputs": [],
   "source": [
    "# pip install spotipy\n",
    "import json\n",
    "import random\n",
    "import warnings\n",
    "\n",
    "import spotipy\n",
    "import spotipy.util as util\n",
    "import requests\n",
    "import pandas as pd\n",
    "import numpy as np\n",
    "\n",
    "from tqdm import tqdm"
   ]
  },
  {
   "cell_type": "code",
   "execution_count": null,
   "metadata": {},
   "outputs": [],
   "source": [
    "# please find your token in spotify developer web\n",
    "token='your token'\n",
    "headers = {\"Authorization\": \"Bearer {}\".format(token)}"
   ]
  },
  {
   "cell_type": "code",
   "execution_count": null,
   "metadata": {},
   "outputs": [],
   "source": [
    "# identify get attributes function, return some attributes\n",
    "def get_song_attributes(response_text):\n",
    "    return json.loads(response_text)"
   ]
  },
  {
   "attachments": {},
   "cell_type": "markdown",
   "metadata": {},
   "source": [
    "get self playlist/or other users"
   ]
  },
  {
   "cell_type": "code",
   "execution_count": null,
   "metadata": {},
   "outputs": [],
   "source": [
    "# log in web spotify    \n",
    "responses = requests.get(\"https://api.spotify.com/v1/me/tracks?offset=0&limit=50\", headers=headers)\n",
    "myjson_data = json.loads(responses.text)"
   ]
  },
  {
   "cell_type": "code",
   "execution_count": null,
   "metadata": {},
   "outputs": [],
   "source": [
    "# start to get data\n",
    "my_songs_attributes = []\n",
    "my_songs_names = []\n",
    "for item in myjson_data.get('items'):\n",
    "    song_ids = item['track']['uri'].split(':')[2]\n",
    "    song_name = item['track']['name']\n",
    "    song_attributes = requests.get(f\"https://api.spotify.com/v1/audio-features/{song_ids}\", headers=headers)\n",
    "    my_songs_attributes.append(get_song_attributes(song_attributes.text))\n",
    "    my_songs_names.append(song_name)"
   ]
  },
  {
   "cell_type": "code",
   "execution_count": null,
   "metadata": {},
   "outputs": [],
   "source": [
    "# add name to song attriutes\n",
    "my_songs = pd.DataFrame(my_songs_attributes)    \n",
    "\n",
    "my_songs['song_name'] = my_songs_names\n",
    "\n",
    "#label owner name to dataframe\n",
    "my_songs['Owner'] = 'Me'\n",
    "\n",
    "\n",
    "#get attributes we need\n",
    "data = my_songs[[ 'Owner','song_name','acousticness',\n",
    "                    'danceability','energy','instrumentalness',\n",
    "                    'loudness','speechiness','tempo','valence'\n",
    "                   ]]"
   ]
  },
  {
   "attachments": {},
   "cell_type": "markdown",
   "metadata": {},
   "source": [
    "get albulm song from a artist"
   ]
  },
  {
   "cell_type": "code",
   "execution_count": null,
   "metadata": {},
   "outputs": [],
   "source": [
    "# take justine bieber's albulm MY World as example\n",
    "# form:https://api.spotify.com/v1/albums/{albulm_ID}\n",
    "responsesjb = requests.get('https://api.spotify.com/v1/albums/1rG5TDs3jYh6OU753I54CI?si=_cbhNAxYReS3q7jC6u8gaw', headers=headers)\n",
    "jbjson_data = json.loads(responsesjb.text)"
   ]
  },
  {
   "cell_type": "code",
   "execution_count": null,
   "metadata": {},
   "outputs": [],
   "source": [
    "# start to get data\n",
    "jb_songs_attributes = []\n",
    "jb_songs_names = []\n",
    "for item in jbjson_data.get('tracks')['items']:\n",
    "    song_ids = item['uri'].split(':')[2]\n",
    "    song_name = item['name']\n",
    "    song_attributes = requests.get(f\"https://api.spotify.com/v1/audio-features/{song_ids}\", headers=headers)\n",
    "    jb_songs_attributes.append(get_song_attributes(song_attributes.text))\n",
    "    jb_songs_names.append(song_name)"
   ]
  },
  {
   "cell_type": "code",
   "execution_count": null,
   "metadata": {},
   "outputs": [],
   "source": [
    "jb_songs = pd.DataFrame(jb_songs_attributes)    \n",
    "\n",
    "jb_songs['song_name'] = jb_songs_names\n",
    "\n",
    "#label owner name to dataframe\n",
    "jb_songs['Owner'] = 'MyWorld'\n",
    "\n",
    "\n",
    "#get attributes we need\n",
    "data2 = jb_songs[[ 'Owner','song_name','acousticness',\n",
    "                    'danceability','energy','instrumentalness',\n",
    "                    'loudness','speechiness','tempo','valence'\n",
    "                   ]]"
   ]
  },
  {
   "attachments": {},
   "cell_type": "markdown",
   "metadata": {},
   "source": [
    "get playlist data"
   ]
  },
  {
   "cell_type": "code",
   "execution_count": null,
   "metadata": {},
   "outputs": [],
   "source": [
    "# take official playlist Hit of 2022 as example\n",
    "#form: https://api.spotify.com/v1/playlists/{playlist_id}\n",
    "hit2022 = requests.get('https://api.spotify.com/v1/playlists/56r5qRUv3jSxADdmBkhcz7?si=87f15f8f912a47ea', headers=headers)\n",
    "hit2022json = json.loads(hit2022.text)"
   ]
  },
  {
   "cell_type": "code",
   "execution_count": null,
   "metadata": {},
   "outputs": [],
   "source": [
    "# start to get data\n",
    "hit2022_songs_attributes = []\n",
    "hit2022_songs_names = []\n",
    "for item in hit2022json['tracks']['items']:\n",
    "    song_ids = item['track']['uri'].split(':')[2]\n",
    "    song_name = item['track']['name']\n",
    "    song_attributes = requests.get(f\"https://api.spotify.com/v1/audio-features/{song_ids}\", headers=headers)\n",
    "    hit2022_songs_attributes.append(get_song_attributes(song_attributes.text))\n",
    "    hit2022_songs_names.append(song_name)"
   ]
  },
  {
   "cell_type": "code",
   "execution_count": null,
   "metadata": {},
   "outputs": [],
   "source": [
    "hit2022_songs = pd.DataFrame(hit2022_songs_attributes)    \n",
    "\n",
    "hit2022_songs['song_name'] = hit2022_songs_names\n",
    "\n",
    "#label owner name to dataframe\n",
    "hit2022_songs['Owner'] = 'hit2022'\n",
    "\n",
    "\n",
    "#get attributes we need\n",
    "data3 = hit2022_songs[[ 'Owner','song_name','acousticness',\n",
    "                    'danceability','energy','instrumentalness',\n",
    "                    'loudness','speechiness','tempo','valence'\n",
    "                   ]]"
   ]
  }
 ],
 "metadata": {
  "kernelspec": {
   "display_name": "Python 3",
   "language": "python",
   "name": "python3"
  },
  "language_info": {
   "name": "python",
   "version": "3.10.7 (tags/v3.10.7:6cc6b13, Sep  5 2022, 14:08:36) [MSC v.1933 64 bit (AMD64)]"
  },
  "orig_nbformat": 4,
  "vscode": {
   "interpreter": {
    "hash": "5dcca87c6fb03fb4634efef5f1b4e1686105b41f00454df568a7660903364bc5"
   }
  }
 },
 "nbformat": 4,
 "nbformat_minor": 2
}
