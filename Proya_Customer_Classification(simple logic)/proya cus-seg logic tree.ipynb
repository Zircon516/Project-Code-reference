{
 "cells": [
  {
   "cell_type": "code",
   "execution_count": 1,
   "metadata": {},
   "outputs": [],
   "source": [
    "import pandas as pd\n",
    "import numpy as np\n"
   ]
  },
  {
   "cell_type": "code",
   "execution_count": null,
   "metadata": {},
   "outputs": [],
   "source": [
    "# oop exercise\n",
    "# create a proya cosmetics customer segment\n",
    "# segment logic:\n",
    "# first considering feature\n",
    "# nest considering feature\n",
    "# last considering feature\n",
    "\n",
    "# 3种人群：入门，进阶，玩色\n",
    "# 分类逻辑：\n",
    "# 入门：\n",
    "    # 主筛选条件\n",
    "        # 化妆频率：一周1-4次（最次要权重）\n",
    "        # 化妆步骤：没有高光，腮红，阴影的所有(最高权重)\n",
    "        # 化妆态度：一般固定几种颜色（次要权重）\n",
    "    # 次筛选条件\n",
    "        # 妆容风格：日常清新/甜美少女\n",
    "        # 底妆产品风格：种类越多，风格越不日常，阶级越高\n",
    "# 进阶：\n",
    "    # 主筛选条件\n",
    "        # 化妆频率：一周5-7次（最次要权重）\n",
    "        # 化妆步骤：所有(最高权重)\n",
    "        # 化妆态度：一般固定几种颜色/比较喜欢尝试不同颜色（次要权重）\n",
    "    # 次筛选条件\n",
    "        # 妆容风格：除日常清新/甜美少女其他所有\n",
    "        # 底妆产品风格：种类越多，风格越不日常，阶级越高\n",
    "# 玩色：\n",
    "    # 主筛选条件\n",
    "        # 化妆频率：一周5-7次（最次要权重）\n",
    "        # 化妆步骤：没有高光，腮红，阴影的所有(最高权重)\n",
    "        # 化妆态度：比较喜欢尝试不同颜色/颜色选择比较跳脱（次要权重）\n",
    "    # 次筛选条件\n",
    "        # 妆容风格：多彩玩色风/百变跳脱\n",
    "        # 底妆产品风格：种类越多，风格越不日常，阶级越高"
   ]
  },
  {
   "cell_type": "code",
   "execution_count": 15,
   "metadata": {},
   "outputs": [],
   "source": [
    "df = pd.read_excel(r\"C:\\Users\\22785\\Desktop\\打工\\珀萊雅工作報告\\社群分类\\classification.xlsx\")"
   ]
  },
  {
   "cell_type": "code",
   "execution_count": 16,
   "metadata": {},
   "outputs": [
    {
     "data": {
      "text/html": [
       "<div>\n",
       "<style scoped>\n",
       "    .dataframe tbody tr th:only-of-type {\n",
       "        vertical-align: middle;\n",
       "    }\n",
       "\n",
       "    .dataframe tbody tr th {\n",
       "        vertical-align: top;\n",
       "    }\n",
       "\n",
       "    .dataframe thead th {\n",
       "        text-align: right;\n",
       "    }\n",
       "</style>\n",
       "<table border=\"1\" class=\"dataframe\">\n",
       "  <thead>\n",
       "    <tr style=\"text-align: right;\">\n",
       "      <th></th>\n",
       "      <th>index</th>\n",
       "      <th>cus_name</th>\n",
       "      <th>frequncy</th>\n",
       "      <th>primer</th>\n",
       "      <th>eyebrows</th>\n",
       "      <th>eyeliner</th>\n",
       "      <th>eyeshadow</th>\n",
       "      <th>highlight</th>\n",
       "      <th>shadow</th>\n",
       "      <th>blush</th>\n",
       "      <th>lipstick</th>\n",
       "      <th>attitude</th>\n",
       "      <th>makeup_style</th>\n",
       "    </tr>\n",
       "  </thead>\n",
       "  <tbody>\n",
       "    <tr>\n",
       "      <th>0</th>\n",
       "      <td>1</td>\n",
       "      <td>Kalen</td>\n",
       "      <td>4</td>\n",
       "      <td>1</td>\n",
       "      <td>1</td>\n",
       "      <td>1</td>\n",
       "      <td>0</td>\n",
       "      <td>0</td>\n",
       "      <td>0</td>\n",
       "      <td>0</td>\n",
       "      <td>0</td>\n",
       "      <td>0</td>\n",
       "      <td>7</td>\n",
       "    </tr>\n",
       "    <tr>\n",
       "      <th>1</th>\n",
       "      <td>2</td>\n",
       "      <td>Nina</td>\n",
       "      <td>2</td>\n",
       "      <td>1</td>\n",
       "      <td>0</td>\n",
       "      <td>0</td>\n",
       "      <td>1</td>\n",
       "      <td>0</td>\n",
       "      <td>0</td>\n",
       "      <td>0</td>\n",
       "      <td>1</td>\n",
       "      <td>0</td>\n",
       "      <td>2</td>\n",
       "    </tr>\n",
       "    <tr>\n",
       "      <th>2</th>\n",
       "      <td>3</td>\n",
       "      <td>Angela</td>\n",
       "      <td>3</td>\n",
       "      <td>1</td>\n",
       "      <td>1</td>\n",
       "      <td>1</td>\n",
       "      <td>1</td>\n",
       "      <td>1</td>\n",
       "      <td>1</td>\n",
       "      <td>0</td>\n",
       "      <td>1</td>\n",
       "      <td>0</td>\n",
       "      <td>4</td>\n",
       "    </tr>\n",
       "    <tr>\n",
       "      <th>3</th>\n",
       "      <td>4</td>\n",
       "      <td>Ketty</td>\n",
       "      <td>4</td>\n",
       "      <td>1</td>\n",
       "      <td>0</td>\n",
       "      <td>0</td>\n",
       "      <td>1</td>\n",
       "      <td>0</td>\n",
       "      <td>1</td>\n",
       "      <td>1</td>\n",
       "      <td>1</td>\n",
       "      <td>1</td>\n",
       "      <td>2</td>\n",
       "    </tr>\n",
       "    <tr>\n",
       "      <th>4</th>\n",
       "      <td>5</td>\n",
       "      <td>Zoe</td>\n",
       "      <td>5</td>\n",
       "      <td>1</td>\n",
       "      <td>0</td>\n",
       "      <td>0</td>\n",
       "      <td>1</td>\n",
       "      <td>0</td>\n",
       "      <td>1</td>\n",
       "      <td>1</td>\n",
       "      <td>1</td>\n",
       "      <td>2</td>\n",
       "      <td>7</td>\n",
       "    </tr>\n",
       "  </tbody>\n",
       "</table>\n",
       "</div>"
      ],
      "text/plain": [
       "   index cus_name  frequncy  primer  eyebrows  eyeliner  eyeshadow  highlight  \\\n",
       "0      1    Kalen         4       1         1         1          0          0   \n",
       "1      2     Nina         2       1         0         0          1          0   \n",
       "2      3   Angela         3       1         1         1          1          1   \n",
       "3      4    Ketty         4       1         0         0          1          0   \n",
       "4      5      Zoe         5       1         0         0          1          0   \n",
       "\n",
       "   shadow  blush  lipstick  attitude  makeup_style  \n",
       "0       0      0         0         0             7  \n",
       "1       0      0         1         0             2  \n",
       "2       1      0         1         0             4  \n",
       "3       1      1         1         1             2  \n",
       "4       1      1         1         2             7  "
      ]
     },
     "execution_count": 16,
     "metadata": {},
     "output_type": "execute_result"
    }
   ],
   "source": [
    "df"
   ]
  },
  {
   "cell_type": "code",
   "execution_count": 17,
   "metadata": {},
   "outputs": [],
   "source": [
    "# 关于已处理好数据的分类模块\n",
    "product_used = ['primer','eyebrows','eyeliner','eyeshadow','highlight','shadow','blush','lipstick']\n",
    "# extract such thing\n",
    "df['higher_product_number'] = df[['highlight','shadow','blush']].sum(axis=1)"
   ]
  },
  {
   "cell_type": "code",
   "execution_count": 18,
   "metadata": {},
   "outputs": [],
   "source": [
    "#extract those columns that need to analyze\n",
    "col = ['frequncy', 'attitude', 'makeup_style','higher_product_number']\n",
    "df_ana = df[col]"
   ]
  },
  {
   "cell_type": "code",
   "execution_count": 19,
   "metadata": {},
   "outputs": [
    {
     "data": {
      "text/html": [
       "<div>\n",
       "<style scoped>\n",
       "    .dataframe tbody tr th:only-of-type {\n",
       "        vertical-align: middle;\n",
       "    }\n",
       "\n",
       "    .dataframe tbody tr th {\n",
       "        vertical-align: top;\n",
       "    }\n",
       "\n",
       "    .dataframe thead th {\n",
       "        text-align: right;\n",
       "    }\n",
       "</style>\n",
       "<table border=\"1\" class=\"dataframe\">\n",
       "  <thead>\n",
       "    <tr style=\"text-align: right;\">\n",
       "      <th></th>\n",
       "      <th>frequncy</th>\n",
       "      <th>attitude</th>\n",
       "      <th>makeup_style</th>\n",
       "      <th>higher_product_number</th>\n",
       "    </tr>\n",
       "  </thead>\n",
       "  <tbody>\n",
       "    <tr>\n",
       "      <th>0</th>\n",
       "      <td>4</td>\n",
       "      <td>0</td>\n",
       "      <td>7</td>\n",
       "      <td>0</td>\n",
       "    </tr>\n",
       "    <tr>\n",
       "      <th>1</th>\n",
       "      <td>2</td>\n",
       "      <td>0</td>\n",
       "      <td>2</td>\n",
       "      <td>0</td>\n",
       "    </tr>\n",
       "    <tr>\n",
       "      <th>2</th>\n",
       "      <td>3</td>\n",
       "      <td>0</td>\n",
       "      <td>4</td>\n",
       "      <td>2</td>\n",
       "    </tr>\n",
       "    <tr>\n",
       "      <th>3</th>\n",
       "      <td>4</td>\n",
       "      <td>1</td>\n",
       "      <td>2</td>\n",
       "      <td>2</td>\n",
       "    </tr>\n",
       "    <tr>\n",
       "      <th>4</th>\n",
       "      <td>5</td>\n",
       "      <td>2</td>\n",
       "      <td>7</td>\n",
       "      <td>2</td>\n",
       "    </tr>\n",
       "  </tbody>\n",
       "</table>\n",
       "</div>"
      ],
      "text/plain": [
       "   frequncy  attitude  makeup_style  higher_product_number\n",
       "0         4         0             7                      0\n",
       "1         2         0             2                      0\n",
       "2         3         0             4                      2\n",
       "3         4         1             2                      2\n",
       "4         5         2             7                      2"
      ]
     },
     "execution_count": 19,
     "metadata": {},
     "output_type": "execute_result"
    }
   ],
   "source": [
    "df_ana"
   ]
  },
  {
   "cell_type": "code",
   "execution_count": 46,
   "metadata": {},
   "outputs": [],
   "source": [
    "# create a classifier\n",
    "def classify(arr):\n",
    "    if int(arr['higher_product_number']) < 2:\n",
    "        return 0\n",
    "    else:\n",
    "        if int(arr['attitude']) == 0:\n",
    "            return 0\n",
    "        else:\n",
    "            if int(arr['frequncy']) < 4:\n",
    "                if int(arr['makeup_style']) < 4:\n",
    "                    return 0\n",
    "                else:\n",
    "                    return 1\n",
    "            else:\n",
    "                if int(arr['attitude']) > 0:\n",
    "                    return 2\n",
    "                else:\n",
    "                    if int(arr['makeup_style']) >= 6:\n",
    "                        return 2\n",
    "    return 1\n",
    "\n"
   ]
  },
  {
   "cell_type": "code",
   "execution_count": 51,
   "metadata": {},
   "outputs": [
    {
     "data": {
      "text/plain": [
       "2"
      ]
     },
     "execution_count": 51,
     "metadata": {},
     "output_type": "execute_result"
    }
   ],
   "source": [
    "classify(df_ana[4:5])"
   ]
  },
  {
   "cell_type": "code",
   "execution_count": 56,
   "metadata": {},
   "outputs": [],
   "source": [
    "# create a general classifior for all dataframe\n",
    "def create_lable(dataframe):\n",
    "    label = dataframe.apply(lambda x: classify(x),axis = 1)\n",
    "    return label"
   ]
  },
  {
   "cell_type": "code",
   "execution_count": 57,
   "metadata": {},
   "outputs": [
    {
     "data": {
      "text/plain": [
       "0    0\n",
       "1    0\n",
       "2    0\n",
       "3    2\n",
       "4    2\n",
       "dtype: int64"
      ]
     },
     "execution_count": 57,
     "metadata": {},
     "output_type": "execute_result"
    }
   ],
   "source": [
    "create_lable(df_ana)"
   ]
  },
  {
   "cell_type": "code",
   "execution_count": 32,
   "metadata": {},
   "outputs": [
    {
     "data": {
      "text/plain": [
       "numpy.ndarray"
      ]
     },
     "execution_count": 32,
     "metadata": {},
     "output_type": "execute_result"
    }
   ],
   "source": [
    "type(q)"
   ]
  },
  {
   "cell_type": "code",
   "execution_count": 42,
   "metadata": {},
   "outputs": [
    {
     "ename": "TypeError",
     "evalue": "'numpy.ndarray' object is not callable",
     "output_type": "error",
     "traceback": [
      "\u001b[1;31m---------------------------------------------------------------------------\u001b[0m",
      "\u001b[1;31mTypeError\u001b[0m                                 Traceback (most recent call last)",
      "\u001b[1;32mUntitled-6.ipynb Cell 11\u001b[0m in \u001b[0;36m<cell line: 1>\u001b[1;34m()\u001b[0m\n\u001b[1;32m----> <a href='vscode-notebook-cell:Untitled-6.ipynb?jupyter-notebook#X13sdW50aXRsZWQ%3D?line=0'>1</a>\u001b[0m \u001b[39mtype\u001b[39m(df_ana[\u001b[39m0\u001b[39;49m:\u001b[39m1\u001b[39;49m][\u001b[39m'\u001b[39;49m\u001b[39mhigher_product_number\u001b[39;49m\u001b[39m'\u001b[39;49m]\u001b[39m.\u001b[39;49mvalues())\n",
      "\u001b[1;31mTypeError\u001b[0m: 'numpy.ndarray' object is not callable"
     ]
    }
   ],
   "source": [
    "type(df_ana[0:1]['higher_product_number'].values)"
   ]
  },
  {
   "cell_type": "code",
   "execution_count": 1,
   "metadata": {},
   "outputs": [
    {
     "ename": "NameError",
     "evalue": "name 'df_ana' is not defined",
     "output_type": "error",
     "traceback": [
      "\u001b[1;31m---------------------------------------------------------------------------\u001b[0m",
      "\u001b[1;31mNameError\u001b[0m                                 Traceback (most recent call last)",
      "\u001b[1;32mUntitled-6.ipynb Cell 13\u001b[0m in \u001b[0;36m<cell line: 1>\u001b[1;34m()\u001b[0m\n\u001b[1;32m----> <a href='vscode-notebook-cell:Untitled-6.ipynb?jupyter-notebook#X15sdW50aXRsZWQ%3D?line=0'>1</a>\u001b[0m df_ana[\u001b[39m0\u001b[39m:\u001b[39m1\u001b[39m][\u001b[39m'\u001b[39m\u001b[39mhigher_product_number\u001b[39m\u001b[39m'\u001b[39m]\n",
      "\u001b[1;31mNameError\u001b[0m: name 'df_ana' is not defined"
     ]
    }
   ],
   "source": [
    "df_ana[0:1]['higher_product_number']"
   ]
  },
  {
   "cell_type": "code",
   "execution_count": null,
   "metadata": {},
   "outputs": [],
   "source": []
  }
 ],
 "metadata": {
  "kernelspec": {
   "display_name": "Python 3",
   "language": "python",
   "name": "python3"
  },
  "language_info": {
   "codemirror_mode": {
    "name": "ipython",
    "version": 3
   },
   "file_extension": ".py",
   "mimetype": "text/x-python",
   "name": "python",
   "nbconvert_exporter": "python",
   "pygments_lexer": "ipython3",
   "version": "3.10.7"
  },
  "orig_nbformat": 4,
  "vscode": {
   "interpreter": {
    "hash": "5dcca87c6fb03fb4634efef5f1b4e1686105b41f00454df568a7660903364bc5"
   }
  }
 },
 "nbformat": 4,
 "nbformat_minor": 2
}
